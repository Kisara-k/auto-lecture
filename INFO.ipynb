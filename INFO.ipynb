{
 "cells": [
  {
   "cell_type": "markdown",
   "id": "dfa16a0d",
   "metadata": {},
   "source": [
    "## Completion Metadata\n",
    "```\n",
    "ChatCompletion\n",
    "├── id: 'chatcmpl-BqNpBtSxLuWpzO36l6Ipd4QbYrGpn'\n",
    "├── object: 'chat.completion'\n",
    "├── created: 1751824337\n",
    "├── model: 'gpt-4.1-mini-2025-04-14'\n",
    "├── service_tier: 'default'\n",
    "├── system_fingerprint: 'fp_6f2eabb9a5'\n",
    "├── choices: [\n",
    "│   └── 0:\n",
    "│       ├── index: 0\n",
    "│       ├── finish_reason: 'stop'\n",
    "│       ├── logprobs: None\n",
    "│       ├── message:\n",
    "│       │   ├── role: 'assistant'\n",
    "│       │   ├── content: '...'  # <--- This is the actual response\n",
    "│       │   ├── annotations: []\n",
    "│       │   ├── audio: None\n",
    "│       │   ├── function_call: None\n",
    "│       │   ├── tool_calls: None\n",
    "│       ├── refusal: None\n",
    "├── usage:\n",
    "│   ├── prompt_tokens: 4745\n",
    "│   ├── completion_tokens: 2289\n",
    "│   ├── total_tokens: 7034\n",
    "│   ├── completion_tokens_details:\n",
    "│   │   ├── accepted_prediction_tokens: 0\n",
    "│   │   ├── audio_tokens: 0\n",
    "│   │   ├── reasoning_tokens: 0\n",
    "│   │   ├── rejected_prediction_tokens: 0\n",
    "│   ├── prompt_tokens_details:\n",
    "│       ├── audio_tokens: 0\n",
    "│       ├── cached_tokens: 4736\n",
    "```"
   ]
  },
  {
   "cell_type": "markdown",
   "id": "f11aab10",
   "metadata": {},
   "source": [
    "## Models\n",
    "\n",
    "Last Updated 06 Jul 2025\n",
    "\n",
    "| Feature / Endpoint                        | 4.1                             | 4.1-mini                               | 4.1-nano                                | 4o                                 | 4o-mini                                      | o4-mini                            |\n",
    "|------------------------------------------|------------------------------------------|--------------------------------------------|--------------------------------------------|-------------------------------------------|------------------------------------------------|-------------------------------------------|\n",
    "| Model Description                         | Flagship GPT model for complex tasks     | Balanced for intelligence, speed, and cost | Fastest, most cost-effective GPT-4.1 model | Fast, intelligent, flexible GPT model     | Fast, affordable small model for focused tasks | Faster, more affordable reasoning model  |\n",
    "| Intelligence                              | 4                                         | 3                                           | 2                                           | 3                                          | 2                                               | 4 (Reasoning)                                          |\n",
    "| Speed                                     | 3                                         | 4                                           | 5                                           | 3                                          | 4                                               | 3                                          |\n",
    "| Pricing (Per 1M tokens) - Input           | $2.00                                    | $0.40                                      | $0.10                                      | $2.50                                     | $0.15                                         | $1.10                                     |\n",
    "| Pricing (Per 1M tokens) - Cached Input    | $0.50                                    | $0.10                                      | $0.03                                      | $1.25                                     | $0.08                                         | $0.28                                     |\n",
    "| Pricing (Per 1M tokens) - Output          | $8.00                                    | $1.60                                      | $0.40                                      | $10.00                                    | $0.60                                         | $4.40                                     |\n",
    "| Context Window                            | 1,047,576                                | 1,047,576                                  | 1,047,576                                  | 128,000                                   | 128,000                                       | 200,000                                   |\n",
    "| Max Output Tokens                         | 32,768                                   | 32,768                                     | 32,768                                     | 16,384                                    | 16,384                                        | 100,000                                   |\n",
    "| Knowledge Cutoff                          | Jun 01, 2024                             | Jun 01, 2024                               | Jun 01, 2024                               | Oct 01, 2023                              | Oct 01, 2023                                   | Jun 01, 2024                             |\n",
    "| Endpoint - v1/chat/completions            |                                          |                                            |                                            |                                           |                                                |                                           |\n",
    "| Endpoint - v1/responses                   |                                          |                                            |                                            |                                           |                                                |                                           |\n",
    "| Endpoint - v1/assistants                  |                                          |                                            |                                            |                                           |                                                | x                                          |\n",
    "| Endpoint - v1/batch                       |                                          |                                            |                                            |                                           |                                                |                                           |\n",
    "| Endpoint - v1/fine-tuning                 |                                          |                                            |                                            |                                           |                                                |                                           |\n",
    "| Feature - Streaming                       |                                          |                                            |                                            |                                           |                                                |                                           |\n",
    "| Feature - Function calling                |                                          |                                            |                                            |                                           |                                                |                                           |\n",
    "| Feature - Structured outputs              |                                          |                                            |                                            |                                           |                                                |                                           |\n",
    "| Feature - Fine-tuning                     |                                          |                                            |                                            |                                           |                                                |                                           |\n",
    "| Feature - Distillation                    |                                          | x                                           |x                                            |                                           | x                                               | x                                          |\n",
    "| Feature - Predicted outputs               |                                          | x                                           |x                                            |                                           | x                                               | x                                          |\n",
    "| Feature - Image input                     |                                          |                                            |                                            |                                           |                                                |                                           |\n",
    "| Rate Limit TPM - Free                     | -                                        | 40,000                                     | 40,000                                     | -                                         | 40,000                                         | -                                         |\n",
    "| Rate Limit TPM - Tier 1                   | 30,000                                   | 200,000                                    | 200,000                                    | 30,000                                    | 200,000                                        | 100,000                                   |\n",
    "| Rate Limit TPM - Tier 2                   | 450,000                                  | 2,000,000                                  | 2,000,000                                  | 450,000                                   | 2,000,000                                      | 2,000,000                                 |\n",
    "| Rate Limit TPM - Tier 3                   | 800,000                                  | 4,000,000                                  | 4,000,000                                  | 800,000                                   | 4,000,000                                      | 4,000,000                                 |\n",
    "| Rate Limit TPM - Tier 4                   | 2,000,000                                | 10,000,000                                 | 10,000,000                                 | 2,000,000                                 | 10,000,000                                     | 10,000,000                                |\n",
    "| Rate Limit TPM - Tier 5                   | 30,000,000                               | 150,000,000                                | 150,000,000                                | 30,000,000                                | 150,000,000                                    | 150,000,000                               |\n",
    "\n",
    "All 6 models take text/image input and output text"
   ]
  },
  {
   "cell_type": "markdown",
   "id": "147930e0",
   "metadata": {},
   "source": []
  }
 ],
 "metadata": {
  "kernelspec": {
   "display_name": "Python 3",
   "language": "python",
   "name": "python3"
  },
  "language_info": {
   "name": "python",
   "version": "3.13.2"
  }
 },
 "nbformat": 4,
 "nbformat_minor": 5
}
