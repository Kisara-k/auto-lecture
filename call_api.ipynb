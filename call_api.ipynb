{
 "cells": [
  {
   "cell_type": "code",
   "execution_count": null,
   "id": "e304e913",
   "metadata": {},
   "outputs": [],
   "source": [
    "import os\n",
    "import time\n",
    "import importlib\n",
    "\n",
    "from dotenv import load_dotenv\n",
    "from openai import OpenAI\n",
    "from IPython.display import Markdown, display\n",
    "\n",
    "import config\n",
    "\n",
    "load_dotenv()\n",
    "openai_key = os.getenv('OPENAI_KEY')\n",
    "client = OpenAI(api_key=openai_key)"
   ]
  },
  {
   "cell_type": "code",
   "execution_count": null,
   "id": "0fbda404",
   "metadata": {},
   "outputs": [],
   "source": [
    "# Reload and import configuration - directly import in production\n",
    "\n",
    "config = importlib.reload(config)\n",
    "globals().update({k: getattr(config, k) for k in [\n",
    "    'system_prompt', 'user_prompt_1', 'user_prompt_2', 'lecture_content', 'clean']})\n",
    "\n",
    "user_prompt_1 += lecture_content"
   ]
  },
  {
   "cell_type": "code",
   "execution_count": null,
   "id": "70f8465e",
   "metadata": {},
   "outputs": [],
   "source": [
    "def generate(messages, model='gpt-4.1-mini'):\n",
    "    start = time.time()\n",
    "    completion = client.chat.completions.create(\n",
    "        model=model,\n",
    "        messages=messages,\n",
    "        temperature=0.3,  # Adjust for more creative or deterministic output\n",
    "        max_tokens=10000,  # Increase this if responses are getting cut off\n",
    "        top_p=0.3,\n",
    "        frequency_penalty=0,\n",
    "        presence_penalty=0\n",
    "    )\n",
    "\n",
    "    elapsed = time.time() - start\n",
    "    print(f\"Completion took {elapsed:.2f} seconds\")\n",
    "\n",
    "    return completion.choices[0].message.content, completion"
   ]
  },
  {
   "cell_type": "code",
   "execution_count": null,
   "id": "1a9a6312",
   "metadata": {},
   "outputs": [],
   "source": [
    "text_1, completion_1 = generate([\n",
    "    {\"role\": \"system\", \"content\": system_prompt},\n",
    "    {\"role\": \"user\", \"content\": user_prompt_1}])\n",
    "\n",
    "display(Markdown(clean(text_1)))"
   ]
  },
  {
   "cell_type": "code",
   "execution_count": null,
   "id": "4d8b3a19",
   "metadata": {},
   "outputs": [],
   "source": [
    "# Save Content\n",
    "\n",
    "filepath = os.path.join(\"outputs\", \"DM 00 Introduction.md\")\n",
    "\n",
    "with open(filepath, \"w\", encoding=\"utf-8\") as f:\n",
    "    f.write(clean(text_1))"
   ]
  },
  {
   "cell_type": "code",
   "execution_count": null,
   "id": "c8f3ad98",
   "metadata": {},
   "outputs": [],
   "source": [
    "text_2, completion_2 = generate([\n",
    "    {\"role\": \"system\", \"content\": system_prompt},\n",
    "    {\"role\": \"user\", \"content\": user_prompt_1},\n",
    "    {\"role\": \"assistant\", \"content\": text_1},\n",
    "    {\"role\": \"user\", \"content\": user_prompt_2},])\n",
    "\n",
    "display(Markdown(text_2))"
   ]
  },
  {
   "cell_type": "code",
   "execution_count": null,
   "id": "084867cd",
   "metadata": {},
   "outputs": [],
   "source": [
    "# Save Content\n",
    "\n",
    "filepath = os.path.join(\"outputs\", \"DM 00 Lec.md\")\n",
    "\n",
    "with open(filepath, \"w\", encoding=\"utf-8\") as f:\n",
    "    f.write(text_2)"
   ]
  },
  {
   "cell_type": "code",
   "execution_count": null,
   "id": "34ea0d0d",
   "metadata": {},
   "outputs": [],
   "source": []
  },
  {
   "cell_type": "markdown",
   "id": "31ae83db",
   "metadata": {},
   "source": []
  }
 ],
 "metadata": {
  "kernelspec": {
   "display_name": "Python 3",
   "language": "python",
   "name": "python3"
  },
  "language_info": {
   "codemirror_mode": {
    "name": "ipython",
    "version": 3
   },
   "file_extension": ".py",
   "mimetype": "text/x-python",
   "name": "python",
   "nbconvert_exporter": "python",
   "pygments_lexer": "ipython3",
   "version": "3.13.2"
  }
 },
 "nbformat": 4,
 "nbformat_minor": 5
}
