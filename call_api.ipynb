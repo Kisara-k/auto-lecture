{
 "cells": [
  {
   "cell_type": "code",
   "execution_count": 13,
   "id": "e304e913",
   "metadata": {},
   "outputs": [],
   "source": [
    "import os\n",
    "import time\n",
    "import importlib\n",
    "import re\n",
    "\n",
    "from dotenv import load_dotenv\n",
    "from openai import OpenAI\n",
    "from IPython.display import Markdown, display\n",
    "\n",
    "import config\n",
    "\n",
    "load_dotenv()\n",
    "openai_key = os.getenv('OPENAI_KEY')\n",
    "client = OpenAI(api_key=openai_key)"
   ]
  },
  {
   "cell_type": "code",
   "execution_count": 11,
   "id": "0fbda404",
   "metadata": {},
   "outputs": [],
   "source": [
    "# Reload and import configuration - directly import in production\n",
    "\n",
    "config = importlib.reload(config)\n",
    "globals().update({k: getattr(config, k) for k in [\n",
    "    'system_prompt', 'user_prompt_1', 'user_prompt_2', 'clean']})"
   ]
  },
  {
   "cell_type": "code",
   "execution_count": 12,
   "id": "70f8465e",
   "metadata": {},
   "outputs": [],
   "source": [
    "def generate(messages, model='gpt-4.1-nano'):\n",
    "    start = time.time()\n",
    "    completion = client.chat.completions.create(\n",
    "        model=model,\n",
    "        messages=messages,\n",
    "        temperature=0.3,  # Adjust for more creative or deterministic output\n",
    "        max_tokens=10000,  # Increase this if responses are getting cut off\n",
    "        top_p=0.3,\n",
    "        frequency_penalty=0,\n",
    "        presence_penalty=0\n",
    "    )\n",
    "\n",
    "    elapsed = time.time() - start\n",
    "    print(f\"Completion took {elapsed:.2f} seconds\")\n",
    "\n",
    "    return completion.choices[0].message.content, completion"
   ]
  },
  {
   "cell_type": "code",
   "execution_count": 9,
   "id": "badf59da",
   "metadata": {},
   "outputs": [],
   "source": [
    "import json\n",
    "\n",
    "with open('Lectures.json', 'r', encoding='utf-8') as f:\n",
    "    lectures = json.load(f)\n"
   ]
  },
  {
   "cell_type": "code",
   "execution_count": null,
   "id": "6ed16b83",
   "metadata": {},
   "outputs": [
    {
     "name": "stdout",
     "output_type": "stream",
     "text": [
      "\n",
      "Create a detailed, introductory understandable study note based on the following lecture content, make sure it's well organized, ADD CONTENTT AND DETAIL, and is clear and detailed. Explain key concepts clearly and in words. Do not leave anything out that's in the lecture content. Structured liek a note, not just a list of points. Each section must have a in word introduction. Don't use overly academic tone. \n",
      "\n",
      "Be VERY DETAILED in each of your explanations. Prefer clear, in-word explanations over brevity. Use emojis in main headings for clarity. Number main headings like 1. [Emoji] Heading. Don't use too many sub headings.\n",
      "\n",
      "lecture content:\n",
      "\n",
      "01 Concepts and Techniques\n",
      "\n",
      "Data Mining: Concepts and Techniques. - Chapter 2 - Jiawei Han, Micheline Kamber, and Jian Pei University of Illinois at Urbana-Champaign Simon Fraser University ©2011 Han, Kamber, and Pei. All rights reserved. Chapter 2: Getting to Know Your Data ◼Data Objects and Attribute Types ◼Basic Statistical Descriptions of Data ◼Data Visualization ◼Measuring Data Similarity and Dissimilarity ◼Summary Types of Data Sets Record Relational records Data matrix, e.g., numerical matrix, crosstabs Document data: text documents: term- frequency vector Transaction data Graph and network World Wide Web Social or information networks Molecular Structures Ordered Video data: sequence of images Temporal data: time-series Sequential Data: transaction sequences Genetic sequence data Spatial, image and multimedia: Spatial data: maps Image data: Video data: Document 1 season timeout lost game score ball pla coach team Document 2 Document 3 TID Items Bread, Coke, Milk Beer, Bread Beer, Coke, Diaper, Milk Beer, Bread, Diaper, Milk Coke, Diaper, Milk Important Characteristics of Structured Data ◼Dimensionality ◼Curse of dimensionality ◼Sparsity ◼Only presence counts ◼Resolution ◼Patterns depend on the scale ◼Distribution ◼Centrality and dispersion Data Objects ◼Data sets are made up of data objects. ◼A data object represents an entity. ◼Examples: ◼sales database: customers, store items, sales ◼medical database: patients, treatments ◼university database: students, professors, courses ◼Also called samples , examples, instances, data points, objects, tuples. ◼Data objects are described by attributes. ◼Database rows -> data objects; columns ->attributes. Attributes ◼Attribute (or dimensions, features, variables): a data field, representing a characteristic or feature of a data object. ◼E.g., customer _ID, name, address ◼Types: ◼Nominal ◼Binary ◼Numeric: quantitative ◼Interval-scaled ◼Ratio-scaled Attribute Types ◼Nominal: categories, states, or “names of things” Hair_color = {auburn, black, blond, brown, grey, red, white} marital status, occupation, ID numbers, zip codes ◼Binary Nominal attribute with only 2 states (0 and 1) Symmetric binary: both outcomes equally important e.g., gender Asymmetric binary: outcomes not equally important. e.g., medical test (positive vs. negative) Convention: assign 1 to most important outcome (e.g., HIV positive) ◼Ordinal Values have a meaningful order (ranking) but magnitude between successive values is not known. Size = {small, medium, large}, grades, army rankings Numeric Attribute Types ◼Quantity (integer or real-valued) ◼Interval Measured on a scale of equal-sized units Values have order E.g., temperature in C˚or F˚, calendar dates No true zero-point ◼Ratio Inherent zero-point We can speak of values as being an order of magnitude larger than the unit of measurement (10 K˚ is twice as high as 5 K˚). e.g., temperature in Kelvin, length, counts, monetary quantities Discrete vs. Continuous Attributes ◼Discrete Attribute ◼Has only a finite or countably infinite set of values ◼E.g., zip codes, profession, or the set of words in a collection of documents ◼Sometimes, represented as integer variables ◼Note: Binary attributes are a special case of discrete attributes ◼Continuous Attribute ◼Has real numbers as attribute values ◼E.g., temperature, height, or weight ◼Practically, real values can only be measured and represented using a finite number of digits ◼Continuous attributes are typically represented as floating-point variables Chapter 2: Getting to Know Your Data ◼Data Objects and Attribute Types ◼Basic Statistical Descriptions of Data ◼Data Visualization ◼Measuring Data Similarity and Dissimilarity ◼Summary Basic Statistical Descriptions of Data ◼Motivation ◼To better understand the data: central tendency, variation and spread ◼Data dispersion characteristics ◼median, max, min, quantiles, outliers, variance, etc. ◼Numerical dimensions correspond to sorted intervals ◼Data dispersion: analyzed with multiple granularities of precision ◼Boxplot or quantile analysis on sorted intervals ◼Dispersion analysis on computed measures ◼Folding measures into numerical dimensions ◼Boxplot or quantile analysis on the transformed cube Measuring the Central Tendency Mean (algebraic measure) (sample vs. population): Note: n is sample size and N is population size. ◼Weighted arithmetic mean: ◼Trimmed mean: chopping extreme values Median: ◼Middle value if odd number of values, or average of the middle two values otherwise ◼Estimated by interpolation (for grouped data): Mode ◼Value that occurs most frequently in the data ◼Unimodal, bimodal, trimodal ◼Empirical formula: width freq freq median median median mean mode mean Symmetric vs. Skewed Data ◼Median, mean and mode of symmetric, positively and negatively skewed data positively skewed negatively skewed symmetric Measuring the Dispersion of Data Quartiles, outliers and boxplots ◼Quartiles: Q1 (25th percentile), Q3 (75th percentile) ◼Inter-quartile range: IQR = Q3 - Q1 ◼Five number summary: min, Q1, median, Q3, max ◼Boxplot: ends of the box are the quartiles; median is marked; add whiskers, and plot outliers individually ◼Outlier: usually, a value higher/lower than 1.5 x IQR Variance and standard deviation (sample: s, population: σ) ◼Variance: (algebraic, scalable computation) ◼Standard deviation s (or σ) is the square root of variance s2 (or σ2) Boxplot Analysis Five-number summary of a distribution ◼Minimum, Q1, Median, Q3, Maximum Boxplot ◼Data is represented with a box ◼The ends of the box are at the first and third quartiles, i.e., the height of the box is IQR ◼The median is marked by a line within the box ◼Whiskers: two lines outside the box extended to Minimum and Maximum ◼Outliers: points beyond a specified outlier threshold, plotted individually Visualization of Data Dispersion: 3-D Boxplots Properties of Normal Distribution Curve ◼The normal (distribution) curve ◼From μ-σ to μ+σ: contains about 68% of the measurements (μ: mean, σ: standard deviation) ◼ From μ-2σ to μ+2σ: contains about 95% of it ◼From μ-3σ to μ+3σ: contains about 99.7% of it Graphic Displays of Basic Statistical Descriptions ◼Boxplot: graphic display of five-number summary ◼Histogram: x-axis are values, y-axis repres. frequencies ◼Quantile plot: each value xi is paired with fi indicating that approximately 100 fi % of data are  xi ◼Quantile-quantile (q-q) plot: graphs the quantiles of one univariant distribution against the corresponding quantiles of another ◼Scatter plot: each pair of values is a pair of coordinates and plotted as points in the plane Histogram Analysis Histogram: Graph display of tabulated frequencies, shown as bars It shows what proportion of cases fall into each of several categories Differs from a bar chart in that it is the area of the bar that denotes the value, not the height as in bar charts, a crucial distinction when the categories are not of uniform width The categories are usually specified as non-overlapping intervals of some variable. The categories (bars) must be adjacent Histograms Often Tell More than Boxplots ◼The two histograms shown in the left may have the same boxplot representation ◼The same values for: min, Q1, median, Q3, max ◼But they have rather different data distributions Quantile Plot ◼Displays all of the data (allowing the user to assess both the overall behavior and unusual occurrences) ◼Plots quantile information ◼For a data xi data sorted in increasing order, fi indicates that approximately 100 fi% of the data are below or equal to the value xi Quantile-Quantile (Q-Q) Plot Graphs the quantiles of one univariate distribution against the corresponding quantiles of another View: Is there is a shift in going from one distribution to another? Example shows unit price of items sold at Branch 1 vs. Branch 2 for each quantile. Unit prices of items sold at Branch 1 tend to be lower than those at Branch 2. Scatter plot ◼Provides a first look at bivariate data to see clusters of points, outliers, etc ◼Each pair of values is treated as a pair of coordinates and plotted as points in the plane Positively and Negatively Correlated Data The left half fragment is positively correlated The right half is negative correlated Uncorrelated Data Chapter 2: Getting to Know Your Data ◼Data Objects and Attribute Types ◼Basic Statistical Descriptions of Data ◼Data Visualization ◼Measuring Data Similarity and Dissimilarity ◼Summary Data Visualization Why data visualization? Gain insight into an information space by mapping data onto graphical primitives Provide qualitative overview of large data sets Search for patterns, trends, structure, irregularities, relationships among data Help find interesting regions and suitable parameters for further quantitative analysis Provide a visual proof of computer representations derived Categorization of visualization methods: Pixel-oriented visualization techniques Geometric projection visualization techniques Icon-based visualization techniques Hierarchical visualization techniques Visualizing complex data and relations Pixel-Oriented Visualization Techniques For a data set of m dimensions, create m windows on the screen, one for each dimension The m dimension values of a record are mapped to m pixels at the corresponding positions in the windows The colors of the pixels reflect the corresponding values (a) Income (b) Credit Limit (c) transaction volume (d) age Laying Out Pixels in Circle Segments To save space and show the connections among multiple dimensions, space filling is often done in a circle segment (a) Representing a data record in circle segment (b) Laying out pixels in circle segment Geometric Projection Visualization Techniques ◼Visualization of geometric transformations and projections of the data ◼Methods ◼Direct visualization ◼Scatterplot and scatterplot matrices ◼Landscapes ◼Projection pursuit technique: Help users find meaningful projections of multidimensional data ◼Prosection views ◼Hyperslice ◼Parallel coordinates Direct Data Visualization Ribbons with Twists Based on Vorticity Scatterplot Matrices Matrix of scatterplots (x-y-diagrams) of the k-dim. data [total of (k2/2-k) scatterplots] Used by ermission of M. Ward, Worcester Polytechnic Institute news articles visualized as a landscape Used by permission of B. Wright, Visible Decisions Inc. Landscapes Visualization of the data as perspective landscape The data needs to be transformed into a (possibly artificial) 2D spatial representation which preserves the characteristics of the data Attr. 1 Attr. 2 Attr. k Attr. 3 • • • Parallel Coordinates n equidistant axes which are parallel to one of the screen axes and correspond to the attributes The axes are scaled to the [minimum, maximum]: range of the corresponding attribute Every data item corresponds to a polygonal line which intersects each of the axes at the point which corresponds to the value for the attribute Parallel Coordinates of a Data Set Icon-Based Visualization Techniques ◼Visualization of the data values as features of icons ◼Typical visualization methods ◼Chernoff Faces ◼Stick Figures ◼General techniques ◼Shape coding: Use shape to represent certain information encoding ◼Color icons: Use color icons to encode more information ◼Tile bars: Use small icons to represent the relevant feature vectors in document retrieval Chernoff Faces A way to display variables on a two-dimensional surface, e.g., let x be eyebrow slant, y be eye size, z be nose length, etc. The figure shows faces produced using 10 characteristics--head eccentricity, eye size, eye spacing, eye eccentricity, pupil size, eyebrow slant, nose size, mouth shape, mouth size, and mouth opening): Each assigned one of 10 possible values, generated using Mathematica (S. Dickson) REFERENCE:. Gonick, L. and Smith, W. The Cartoon Guide to Statistics. New York: Harper Perennial, p. 212, 1993 Weisstein, Eric W. \"Chernoff Face.\" From MathWorld--A Wolfram Web Resource. mathworld.wolfram.com/ChernoffFace.html i i f li b ” A census data figure showing age, income, gender, education, etc. Stick Figure A 5-piece stick figure (1 body and 4 limbs w. different angle/length) Hierarchical Visualization Techniques ◼Visualization of the data using a hierarchical partitioning into subspaces ◼Methods ◼Dimensional Stacking ◼Worlds-within-Worlds ◼Tree-Map ◼Cone Trees ◼InfoCube Dimensional Stacking attribute 1 attribute 2 attribute 3 attribute 4 ◼Partitioning of the n-dimensional attribute space in 2-D subspaces, which are 'stacked' into each other ◼Partitioning of the attribute value ranges into classes. The important attributes should be used on the outer levels. ◼Adequate for data with ordinal attributes of low cardinality ◼But, difficult to display more than nine dimensions ◼Important to map dimensions appropriately Used by permission of M. Ward, Worcester Polytechnic Institute Visualization of oil mining data with longitude and latitude mapped to the outer x-, y-axes and ore grade and depth mapped to the inner x-, y-axes Dimensional Stacking Worlds-within-Worlds Assign the function and two most important parameters to innermost world Fix all other parameters at constant values - draw other (1 or 2 or 3 dimensional worlds choosing these as the axes) Software that uses this paradigm N-vision: Dynamic interaction through data glove and stereo displays, including rotation, scaling (inner) and translation (inner/outer) Auto Visual: Static interaction by means of queries Tree-Map ◼Screen-filling method which uses a hierarchical partitioning of the screen into regions depending on the attribute values ◼The x- and y-dimension of the screen are partitioned alternately according to the attribute values (classes) MSR Netscan Image A k d /h il/ / ll102001 j Tree-Map of a File System (Schneiderman) InfoCube ◼A 3-D visualization technique where hierarchical information is displayed as nested semi-transparent cubes ◼The outermost cubes correspond to the top level data, while the subnodes or the lower level data are represented as smaller cubes inside the outermost cubes, and so on Three-D Cone Trees 3D cone tree visualization technique works well for up to a thousand nodes or so First build a 2D circle tree that arranges its nodes in concentric circles centered on the root node Cannot avoid overlaps when projected to G. Robertson, J. Mackinlay, S. Card. “Cone Trees: Animated 3D Visualizations of Hierarchical Information”, ACM SIGCHI'. 91 Graph from Nadeau Software Consulting website: Visualize a social network data set that models the way an infection spreads from one person to the next Ack.: http://nadeausoftware.com/articles/visualization Visualizing Complex Data and Relations ◼Visualizing non-numerical data: text and social networks ◼Tag cloud: visualizing user-generated tags ◼The importance of tag is represented by font size/color ◼Besides text data, there are also methods to visualize relationships, such as visualizing social networks Newsmap: Google News Stories in 2005 Chapter 2: Getting to Know Your Data ◼Data Objects and Attribute Types ◼Basic Statistical Descriptions of Data ◼Data Visualization ◼Measuring Data Similarity and Dissimilarity ◼Summary Similarity and Dissimilarity ◼Similarity ◼Numerical measure of how alike two data objects are ◼Value is higher when objects are more alike ◼Often falls in the range [0,1] ◼Dissimilarity (e.g., distance) ◼Numerical measure of how different two data objects are ◼Lower when objects are more alike ◼Minimum dissimilarity is often 0 ◼Upper limit varies ◼Proximity refers to a similarity or dissimilarity Data Matrix and Dissimilarity Matrix ◼Data matrix ◼n data points with p dimensions ◼Two modes ◼Dissimilarity matrix ◼n data points, but registers only the distance ◼A triangular matrix ◼Single mode ................................... 2,3 ... d(3,1 d(2,1) Proximity Measure for Nominal Attributes ◼Can take 2 or more states, e.g., red, yellow, blue, green (generalization of a binary attribute) ◼Method 1: Simple matching ◼m: # of matches, p: total # of variables ◼Method 2: Use a large number of binary attributes ◼creating a new binary attribute for each of the M nominal states Proximity Measure for Binary Attributes A contingency table for binary data Distance measure for symmetric binary variables: Distance measure for asymmetric binary variables: Jaccard coefficient (similarity measure for asymmetric binary variables): Note: Jaccard coefficient is the same as “coherence”: Object i Object j Dissimilarity between Binary Variables ◼Example ◼Gender is a symmetric attribute ◼The remaining attributes are asymmetric binary ◼Let the values Y and P be 1, and the value N 0 Name Gender Fever Cough Test-1 Test-2 Test-3 Test-4 Jack Mary Jim mary jim jim jack mary jack Standardizing Numeric Data Z-score: ◼X: raw score to be standardized, μ: mean of the population, σ: standard deviation ◼the distance between the raw score and the population mean in units of the standard deviation ◼negative when the raw score is below the mean, “+” when above An alternative way: Calculate the mean absolute deviation where ◼standardized measure (z-score): Using mean absolute deviation is more robust than using standard deviation ..... = x Example: Data Matrix and Dissimilarity Matrix point attribute1 attribute2 Dissimilarity Matrix (with Euclidean Distance) 3.61 5.1 5.1 4.24 5.39 Data Matrix Distance on Numeric Data: Minkowski Distance Minkowski distance: A popular distance measure where i = (xi1, xi2, ..., xip) and j = (xj1, xj2, ..., xjp) are two p-dimensional data objects, and h is the order (the distance so defined is also called L-h norm) Properties d(i, j) > 0 if i ≠ j, and d(i, i) = 0 (Positive definiteness) d(i, j) = d(j, i) (Symmetry) d(i, j)  d(i, k) + d(k, j) (Triangle Inequality) A distance that satisfies these properties is a metric Special Cases of Minkowski Distance h = 1: Manhattan (city block, L1 norm) distance ◼E.g., the Hamming distance: the number of bits that are different between two binary vectors h = 2: (L2 norm) Euclidean distance h → . “supremum” (Lmax norm, L norm) distance. ◼This is the maximum difference between any component (attribute) of the vectors ..... Example: Minkowski Distance Dissimilarity Matrices point attribute 1 attribute 2 3.61 2.24 5.1 4.24 5.39 Manhattan (L1) Euclidean (L2) Supremum Ordinal Variables ◼An ordinal variable can be discrete or continuous ◼Order is important, e.g., rank ◼Can be treated like interval-scaled ◼replace xif by their rank ◼map the range of each variable onto [0, 1] by replacing i-th object in the f-th variable by ◼compute the dissimilarity using methods for interval- scaled variables ,..., r  Attributes of Mixed Type ◼A database may contain all attribute types ◼Nominal, symmetric binary, asymmetric binary, numeric, ordinal ◼One may use a weighted formula to combine their effects ◼f is binary or nominal: dij (f) = 0 if xif = xjf , or dij (f) = 1 otherwise ◼f is numeric: use the normalized distance ◼f is ordinal ◼Compute ranks rif and ◼Treat zif as interval-scaled zif Cosine Similarity A document can be represented by thousands of attributes, each recording the frequency of a particular word (such as keywords) or phrase in the document. Other vector objects: gene features in micro-arrays, ... Applications: information retrieval, biologic taxonomy, gene feature mapping, ... Cosine measure: If d1 and d2 are two vectors (e.g., term-frequency vectors), then cos(d1, d2) = (d1 • d2) /||d1|| ||d2|| , where • indicates vector dot product, ||d||: the length of vector d Example: Cosine Similarity cos(d1, d2) = (d1 • d2) /||d1|| ||d2|| , where • indicates vector dot product, ||d|: the length of vector d Ex: Find the similarity between documents 1 and 2. d1 = (5, 0, 3, 0, 2, 0, 0, 2, 0, 0) d2 = (3, 0, 2, 0, 1, 1, 0, 1, 0, 1) d1•d2 = 5*3+0*0+3*2+0*0+2*1+0*1+0*1+2*1+0*0+0*1 = 25 ||d1||= (5*5+0*0+3*3+0*0+2*2+0*0+0*0+2*2+0*0+0*0)0.5=(42)0.5 = 6.481 ||d2||= (3*3+0*0+2*2+0*0+1*1+1*1+0*0+1*1+0*0+1*1)0.5=(17)0.5 = 4.12 cos(d1, d2 ) = 0.94 Chapter 2: Getting to Know Your Data ◼Data Objects and Attribute Types ◼Basic Statistical Descriptions of Data ◼Data Visualization ◼Measuring Data Similarity and Dissimilarity ◼Summary Summary Data attribute types: nominal, binary, ordinal, interval-scaled, ratio- scaled Many types of data sets, e.g., numerical, text, graph, Web, image. Gain insight into the data by: ◼Basic statistical data description: central tendency, dispersion, graphical displays ◼Data visualization: map data onto graphical primitives ◼Measure data similarity Above steps are the beginning of data preprocessing. Many methods have been developed but still an active area of research.\n",
      "Completion took 13.36 seconds\n",
      "Completion took 11.66 seconds\n"
     ]
    }
   ],
   "source": [
    "os.makedirs(\"outputs\", exist_ok=True)\n",
    "transcripts = {}\n",
    "\n",
    "for lecture in lectures:\n",
    "    id = lecture['index']\n",
    "    title = lecture['title']\n",
    "    content = lecture['content']\n",
    "\n",
    "    if id > 2:\n",
    "        continue\n",
    "\n",
    "    lec_prompt_1 = user_prompt_1 + title +  \"\\n\\n\" + content\n",
    "\n",
    "    # Step 1\n",
    "\n",
    "    text_1, completion_1 = generate([\n",
    "        {\"role\": \"system\", \"content\": system_prompt},\n",
    "        {\"role\": \"user\", \"content\": lec_prompt_1}])\n",
    "\n",
    "    # Step 2 A\n",
    "    \n",
    "    filepath = os.path.join(\"outputs\", f\"{id:02d} {re.sub(r'[<>:\"/\\\\|?*]', '', title)}.md\")\n",
    "\n",
    "    with open(filepath, \"w\", encoding=\"utf-8\") as f:\n",
    "        f.write(clean(text_1))\n",
    "\n",
    "    # Step 2 B\n",
    "    \n",
    "    text_2, completion_2 = generate([\n",
    "        {\"role\": \"system\", \"content\": system_prompt},\n",
    "        {\"role\": \"user\", \"content\": lec_prompt_1},\n",
    "        {\"role\": \"assistant\", \"content\": text_1},\n",
    "        {\"role\": \"user\", \"content\": user_prompt_2},])\n",
    "    \n",
    "    transcripts[id] = {\n",
    "        \"title\": title,\n",
    "        \"content\": text_2,\n",
    "    }"
   ]
  },
  {
   "cell_type": "code",
   "execution_count": 18,
   "id": "34ea0d0d",
   "metadata": {},
   "outputs": [],
   "source": [
    "# Save Transcripts\n",
    "\n",
    "transcripts_list = [\n",
    "    {\"index\": lecture_id, \"title\": transcript[\"title\"], \"content\": transcript[\"content\"]}\n",
    "    for lecture_id, transcript in sorted(transcripts.items())\n",
    "]\n",
    "with open(\"outputs/transcripts.json\", \"w\", encoding=\"utf-8\") as f:\n",
    "    json.dump(transcripts_list, f, ensure_ascii=False, indent=2)"
   ]
  },
  {
   "cell_type": "markdown",
   "id": "31ae83db",
   "metadata": {},
   "source": []
  }
 ],
 "metadata": {
  "kernelspec": {
   "display_name": "Python 3",
   "language": "python",
   "name": "python3"
  },
  "language_info": {
   "codemirror_mode": {
    "name": "ipython",
    "version": 3
   },
   "file_extension": ".py",
   "mimetype": "text/x-python",
   "name": "python",
   "nbconvert_exporter": "python",
   "pygments_lexer": "ipython3",
   "version": "3.13.2"
  }
 },
 "nbformat": 4,
 "nbformat_minor": 5
}
