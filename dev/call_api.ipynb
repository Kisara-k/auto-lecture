{
 "cells": [
  {
   "cell_type": "code",
   "execution_count": null,
   "id": "e304e913",
   "metadata": {},
   "outputs": [],
   "source": [
    "import os\n",
    "import re\n",
    "import threading\n",
    "import time\n",
    "from concurrent.futures import ThreadPoolExecutor, as_completed\n",
    "\n",
    "from IPython.display import Markdown, display\n",
    "from dotenv import load_dotenv\n",
    "from openai import OpenAI\n",
    "\n",
    "# from config import system_prompt, user_prompt_1, user_prompt_2, clean\n",
    "\n",
    "load_dotenv()\n",
    "openai_key = os.getenv('OPENAI_KEY')\n",
    "client = OpenAI(api_key=openai_key)"
   ]
  },
  {
   "cell_type": "code",
   "execution_count": 28,
   "id": "0fbda404",
   "metadata": {},
   "outputs": [],
   "source": [
    "# Reload and import configuration - directly import in production\n",
    "\n",
    "import config\n",
    "import importlib\n",
    "config = importlib.reload(config)\n",
    "globals().update({k: getattr(config, k) for k in [\n",
    "    'system_prompt', 'user_prompt_1', 'user_prompt_2', 'clean']})"
   ]
  },
  {
   "cell_type": "code",
   "execution_count": 12,
   "id": "70f8465e",
   "metadata": {},
   "outputs": [],
   "source": [
    "def generate(messages, model='gpt-4.1-nano'):\n",
    "    start = time.time()\n",
    "    completion = client.chat.completions.create(\n",
    "        model=model,\n",
    "        messages=messages,\n",
    "        temperature=0.3,  # Adjust for more creative or deterministic output\n",
    "        max_tokens=10000,  # Increase this if responses are getting cut off\n",
    "        top_p=0.3,\n",
    "        frequency_penalty=0,\n",
    "        presence_penalty=0\n",
    "    )\n",
    "\n",
    "    elapsed = time.time() - start\n",
    "    print(f\"Completion took {elapsed:.2f} seconds\")\n",
    "\n",
    "    return completion.choices[0].message.content, completion"
   ]
  },
  {
   "cell_type": "code",
   "execution_count": 9,
   "id": "badf59da",
   "metadata": {},
   "outputs": [],
   "source": [
    "import json\n",
    "\n",
    "with open('Lectures.json', 'r', encoding='utf-8') as f:\n",
    "    lectures = json.load(f)\n"
   ]
  },
  {
   "cell_type": "code",
   "execution_count": 21,
   "id": "6ed16b83",
   "metadata": {},
   "outputs": [],
   "source": [
    "os.makedirs(\"outputs\", exist_ok=True)\n",
    "transcripts = {}\n",
    "transcripts_lock = threading.Lock()\n",
    "\n",
    "def process_lecture(lecture):\n",
    "    id = lecture['index']\n",
    "    title = lecture['title']\n",
    "    content = lecture['content']\n",
    "\n",
    "    if id > 2:\n",
    "        return\n",
    "\n",
    "    lec_prompt_1 = user_prompt_1 + title +  \"\\n\\n\" + content\n",
    "\n",
    "    # Step 1\n",
    "\n",
    "    text_1, completion_1 = generate([\n",
    "        {\"role\": \"system\", \"content\": system_prompt},\n",
    "        {\"role\": \"user\", \"content\": lec_prompt_1}])\n",
    "\n",
    "    # Step 2 A\n",
    "    \n",
    "    filepath = os.path.join(\"outputs\", f\"{id:02d} {re.sub(r'[<>:\"/\\\\|?*]', '', title)}.md\")\n",
    "\n",
    "    with open(filepath, \"w\", encoding=\"utf-8\") as f:\n",
    "        f.write(clean(text_1))\n",
    "\n",
    "    # Step 2 B\n",
    "    \n",
    "    text_2, completion_2 = generate([\n",
    "        {\"role\": \"system\", \"content\": system_prompt},\n",
    "        {\"role\": \"user\", \"content\": lec_prompt_1},\n",
    "        {\"role\": \"assistant\", \"content\": text_1},\n",
    "        {\"role\": \"user\", \"content\": user_prompt_2},])\n",
    "    \n",
    "    with transcripts_lock:\n",
    "        transcripts[id] = {\n",
    "            \"title\": title,\n",
    "            \"content\": text_2,\n",
    "        }"
   ]
  },
  {
   "cell_type": "code",
   "execution_count": null,
   "id": "81b7083d",
   "metadata": {},
   "outputs": [
    {
     "name": "stdout",
     "output_type": "stream",
     "text": [
      "Completion took 12.16 seconds\n",
      "Completion took 13.34 seconds\n",
      "Completion took 14.55 seconds\n",
      "Completion took 8.75 seconds\n",
      "Completion took 10.44 seconds\n",
      "Completion took 9.20 seconds\n"
     ]
    }
   ],
   "source": [
    "with ThreadPoolExecutor() as executor:\n",
    "    target_lectures = [lecture for lecture in lectures if lecture['index'] <= 2]\n",
    "    executor.map(process_lecture, target_lectures)"
   ]
  },
  {
   "cell_type": "code",
   "execution_count": 23,
   "id": "34ea0d0d",
   "metadata": {},
   "outputs": [],
   "source": [
    "# Save Transcripts\n",
    "\n",
    "transcripts_list = [\n",
    "    {\"index\": lecture_id, \"title\": transcript[\"title\"], \"content\": transcript[\"content\"]}\n",
    "    for lecture_id, transcript in sorted(transcripts.items())\n",
    "]\n",
    "with open(\"outputs/transcripts.json\", \"w\", encoding=\"utf-8\") as f:\n",
    "    json.dump(transcripts_list, f, ensure_ascii=False, indent=2)"
   ]
  },
  {
   "cell_type": "markdown",
   "id": "31ae83db",
   "metadata": {},
   "source": []
  }
 ],
 "metadata": {
  "kernelspec": {
   "display_name": "Python 3",
   "language": "python",
   "name": "python3"
  },
  "language_info": {
   "codemirror_mode": {
    "name": "ipython",
    "version": 3
   },
   "file_extension": ".py",
   "mimetype": "text/x-python",
   "name": "python",
   "nbconvert_exporter": "python",
   "pygments_lexer": "ipython3",
   "version": "3.13.2"
  }
 },
 "nbformat": 4,
 "nbformat_minor": 5
}
